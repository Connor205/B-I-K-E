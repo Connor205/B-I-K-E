{
 "cells": [
  {
   "cell_type": "code",
   "execution_count": 1,
   "metadata": {},
   "outputs": [],
   "source": [
    "import tensorflow as tf\n",
    "import numpy as np\n",
    "import matplotlib.pyplot as plt\n",
    "import os\n",
    "import pathlib\n",
    "import time\n",
    "import random\n",
    "import cv2\n",
    "import pandas as pd\n",
    "from keras import layers, models, optimizers, losses, metrics, Sequential\n",
    "from keras.layers import Dense, Conv2D, Flatten , Dropout, MaxPooling2D"
   ]
  },
  {
   "cell_type": "code",
   "execution_count": 10,
   "metadata": {},
   "outputs": [
    {
     "name": "stdout",
     "output_type": "stream",
     "text": [
      "Found 155 files belonging to 13 classes.\n",
      "Found 155 files belonging to 13 classes.\n",
      "Using 124 files for validation.\n",
      "['10', '2', '3', '4', '5', '6', '7', '8', '9', 'ace', 'jack', 'king', 'queen']\n",
      "Sizes:  tf.Tensor(5, shape=(), dtype=int64) tf.Tensor(4, shape=(), dtype=int64)\n",
      "Suit Train Shape:  (TensorSpec(shape=(None, 100, 100, 1), dtype=tf.float32, name=None), TensorSpec(shape=(None, 13), dtype=tf.float32, name=None))\n"
     ]
    }
   ],
   "source": [
    "val_train = tf.keras.utils.image_dataset_from_directory(\"val_images\", labels=\"inferred\", label_mode=\"categorical\", color_mode=\"grayscale\", batch_size=32, image_size=(100, 100), shuffle=True, seed=123, interpolation=\"bilinear\", follow_links=False)\n",
    "val_validate = tf.keras.utils.image_dataset_from_directory(\"val_images\", labels=\"inferred\", label_mode=\"categorical\", color_mode=\"grayscale\", batch_size=32, image_size=(100, 100), shuffle=True, seed=999, validation_split=0.8, subset=\"validation\", interpolation=\"bilinear\", follow_links=False)\n",
    "\n",
    "print(val_train.class_names)\n",
    "print(\"Sizes: \", val_train.cardinality(), val_validate.cardinality())\n",
    "\n",
    "print(\"Suit Train Shape: \", val_train.element_spec)"
   ]
  },
  {
   "cell_type": "code",
   "execution_count": 11,
   "metadata": {},
   "outputs": [
    {
     "name": "stdout",
     "output_type": "stream",
     "text": [
      "Model: \"sequential_2\"\n",
      "_________________________________________________________________\n",
      " Layer (type)                Output Shape              Param #   \n",
      "=================================================================\n",
      " conv2d_6 (Conv2D)           (None, 100, 100, 32)      320       \n",
      "                                                                 \n",
      " max_pooling2d_6 (MaxPooling  (None, 50, 50, 32)       0         \n",
      " 2D)                                                             \n",
      "                                                                 \n",
      " conv2d_7 (Conv2D)           (None, 50, 50, 32)        9248      \n",
      "                                                                 \n",
      " max_pooling2d_7 (MaxPooling  (None, 25, 25, 32)       0         \n",
      " 2D)                                                             \n",
      "                                                                 \n",
      " conv2d_8 (Conv2D)           (None, 25, 25, 64)        18496     \n",
      "                                                                 \n",
      " max_pooling2d_8 (MaxPooling  (None, 12, 12, 64)       0         \n",
      " 2D)                                                             \n",
      "                                                                 \n",
      " dropout_2 (Dropout)         (None, 12, 12, 64)        0         \n",
      "                                                                 \n",
      " flatten_2 (Flatten)         (None, 9216)              0         \n",
      "                                                                 \n",
      " dense_4 (Dense)             (None, 128)               1179776   \n",
      "                                                                 \n",
      " dense_5 (Dense)             (None, 13)                1677      \n",
      "                                                                 \n",
      "=================================================================\n",
      "Total params: 1,209,517\n",
      "Trainable params: 1,209,517\n",
      "Non-trainable params: 0\n",
      "_________________________________________________________________\n"
     ]
    }
   ],
   "source": [
    "# Lets make a network\n",
    "# We will use a convolutional neural network\n",
    "\n",
    "# First we will define our model\n",
    "model = Sequential()\n",
    "model.add(Conv2D(32,3,padding=\"same\", activation=\"relu\", input_shape=(100,100,1)))\n",
    "model.add(MaxPooling2D())\n",
    "\n",
    "model.add(Conv2D(32, 3, padding=\"same\", activation=\"relu\"))\n",
    "model.add(MaxPooling2D())\n",
    "\n",
    "model.add(Conv2D(64, 3, padding=\"same\", activation=\"relu\"))\n",
    "model.add(MaxPooling2D())\n",
    "model.add(Dropout(0.4))\n",
    "\n",
    "model.add(Flatten())\n",
    "model.add(Dense(128,activation=\"relu\"))\n",
    "model.add(Dense(13, activation=\"softmax\"))\n",
    "\n",
    "model.summary()"
   ]
  },
  {
   "cell_type": "code",
   "execution_count": 12,
   "metadata": {},
   "outputs": [
    {
     "name": "stdout",
     "output_type": "stream",
     "text": [
      "Epoch 1/20\n",
      "5/5 [==============================] - 1s 165ms/step - loss: 34.7165 - accuracy: 0.0516 - val_loss: 7.3204 - val_accuracy: 0.2097\n",
      "Epoch 2/20\n",
      "5/5 [==============================] - 1s 143ms/step - loss: 4.5630 - accuracy: 0.1871 - val_loss: 2.1705 - val_accuracy: 0.3065\n",
      "Epoch 3/20\n",
      "5/5 [==============================] - 1s 144ms/step - loss: 2.1326 - accuracy: 0.2903 - val_loss: 1.8398 - val_accuracy: 0.4113\n",
      "Epoch 4/20\n",
      "5/5 [==============================] - 1s 145ms/step - loss: 1.6675 - accuracy: 0.4516 - val_loss: 1.0415 - val_accuracy: 0.7339\n",
      "Epoch 5/20\n",
      "5/5 [==============================] - 1s 144ms/step - loss: 1.0066 - accuracy: 0.7097 - val_loss: 0.4618 - val_accuracy: 0.9355\n",
      "Epoch 6/20\n",
      "5/5 [==============================] - 1s 147ms/step - loss: 0.4705 - accuracy: 0.8774 - val_loss: 0.1230 - val_accuracy: 0.9839\n",
      "Epoch 7/20\n",
      "5/5 [==============================] - 1s 157ms/step - loss: 0.1889 - accuracy: 0.9613 - val_loss: 0.0496 - val_accuracy: 0.9919\n",
      "Epoch 8/20\n",
      "5/5 [==============================] - 1s 156ms/step - loss: 0.1187 - accuracy: 0.9677 - val_loss: 0.0230 - val_accuracy: 1.0000\n",
      "Epoch 9/20\n",
      "5/5 [==============================] - 1s 143ms/step - loss: 0.0608 - accuracy: 0.9871 - val_loss: 0.0070 - val_accuracy: 1.0000\n",
      "Epoch 10/20\n",
      "5/5 [==============================] - 1s 139ms/step - loss: 0.0362 - accuracy: 0.9935 - val_loss: 0.0036 - val_accuracy: 1.0000\n",
      "Epoch 11/20\n",
      "5/5 [==============================] - 1s 146ms/step - loss: 0.0173 - accuracy: 0.9935 - val_loss: 0.0022 - val_accuracy: 1.0000\n",
      "Epoch 12/20\n",
      "5/5 [==============================] - 1s 152ms/step - loss: 0.0545 - accuracy: 0.9806 - val_loss: 0.0087 - val_accuracy: 1.0000\n",
      "Epoch 13/20\n",
      "5/5 [==============================] - 1s 154ms/step - loss: 0.0236 - accuracy: 0.9935 - val_loss: 0.0156 - val_accuracy: 0.9919\n",
      "Epoch 14/20\n",
      "5/5 [==============================] - 1s 149ms/step - loss: 0.0557 - accuracy: 0.9871 - val_loss: 0.0014 - val_accuracy: 1.0000\n",
      "Epoch 15/20\n",
      "5/5 [==============================] - 1s 156ms/step - loss: 0.0116 - accuracy: 1.0000 - val_loss: 5.6753e-04 - val_accuracy: 1.0000\n",
      "Epoch 16/20\n",
      "5/5 [==============================] - 1s 148ms/step - loss: 0.0025 - accuracy: 1.0000 - val_loss: 0.0011 - val_accuracy: 1.0000\n",
      "Epoch 17/20\n",
      "5/5 [==============================] - 1s 148ms/step - loss: 0.0022 - accuracy: 1.0000 - val_loss: 4.1215e-04 - val_accuracy: 1.0000\n",
      "Epoch 18/20\n",
      "5/5 [==============================] - 1s 153ms/step - loss: 0.0057 - accuracy: 1.0000 - val_loss: 1.0764e-04 - val_accuracy: 1.0000\n",
      "Epoch 19/20\n",
      "5/5 [==============================] - 1s 140ms/step - loss: 0.0220 - accuracy: 0.9935 - val_loss: 0.0373 - val_accuracy: 0.9919\n",
      "Epoch 20/20\n",
      "5/5 [==============================] - 1s 143ms/step - loss: 0.0803 - accuracy: 0.9935 - val_loss: 0.0018 - val_accuracy: 1.0000\n"
     ]
    },
    {
     "data": {
      "text/plain": [
       "<keras.callbacks.History at 0x10a0b5810>"
      ]
     },
     "execution_count": 12,
     "metadata": {},
     "output_type": "execute_result"
    }
   ],
   "source": [
    "# Train the model\n",
    "model.compile(optimizer=\"adam\", loss=\"categorical_crossentropy\", metrics=[\"accuracy\"])\n",
    "model.fit(val_train, epochs=20, validation_data=val_validate)"
   ]
  },
  {
   "cell_type": "code",
   "execution_count": null,
   "metadata": {},
   "outputs": [],
   "source": [
    "model.save(\"val_model.h5\")"
   ]
  }
 ],
 "metadata": {
  "kernelspec": {
   "display_name": "ChessBotEnv",
   "language": "python",
   "name": "python3"
  },
  "language_info": {
   "codemirror_mode": {
    "name": "ipython",
    "version": 3
   },
   "file_extension": ".py",
   "mimetype": "text/x-python",
   "name": "python",
   "nbconvert_exporter": "python",
   "pygments_lexer": "ipython3",
   "version": "3.10.1"
  },
  "orig_nbformat": 4
 },
 "nbformat": 4,
 "nbformat_minor": 2
}

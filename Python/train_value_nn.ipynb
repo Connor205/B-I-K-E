{
 "cells": [
  {
   "cell_type": "code",
   "execution_count": 1,
   "metadata": {},
   "outputs": [],
   "source": [
    "import tensorflow as tf\n",
    "import numpy as np\n",
    "import matplotlib.pyplot as plt\n",
    "import os\n",
    "import pathlib\n",
    "import time\n",
    "import random\n",
    "import cv2\n",
    "import pandas as pd\n",
    "from keras import layers, models, optimizers, losses, metrics, Sequential\n",
    "from keras.layers import Dense, Conv2D, Flatten , Dropout, MaxPooling2D"
   ]
  },
  {
   "cell_type": "code",
   "execution_count": 2,
   "metadata": {},
   "outputs": [
    {
     "name": "stdout",
     "output_type": "stream",
     "text": [
      "Found 329 files belonging to 13 classes.\n",
      "Using 264 files for training.\n",
      "Found 329 files belonging to 13 classes.\n",
      "Using 65 files for validation.\n"
     ]
    },
    {
     "name": "stderr",
     "output_type": "stream",
     "text": [
      "2023-04-09 16:15:30.391990: I tensorflow/core/platform/cpu_feature_guard.cc:151] This TensorFlow binary is optimized with oneAPI Deep Neural Network Library (oneDNN) to use the following CPU instructions in performance-critical operations:  AVX2 FMA\n",
      "To enable them in other operations, rebuild TensorFlow with the appropriate compiler flags.\n"
     ]
    },
    {
     "name": "stdout",
     "output_type": "stream",
     "text": [
      "['10', '2', '3', '4', '5', '6', '7', '8', '9', 'ace', 'jack', 'king', 'queen']\n",
      "Sizes:  tf.Tensor(9, shape=(), dtype=int64) tf.Tensor(3, shape=(), dtype=int64)\n",
      "Suit Train Shape:  (TensorSpec(shape=(None, 100, 100, 1), dtype=tf.float32, name=None), TensorSpec(shape=(None, 13), dtype=tf.float32, name=None))\n"
     ]
    }
   ],
   "source": [
    "val_train = tf.keras.utils.image_dataset_from_directory(\"val_images\", labels=\"inferred\", label_mode=\"categorical\", color_mode=\"grayscale\", batch_size=32, image_size=(100, 100), shuffle=True, seed=123, interpolation=\"bilinear\", follow_links=False, validation_split=0.2, subset=\"training\")\n",
    "val_validate = tf.keras.utils.image_dataset_from_directory(\"val_images\", labels=\"inferred\", label_mode=\"categorical\", color_mode=\"grayscale\", batch_size=32, image_size=(100, 100), shuffle=True, seed=123, validation_split=0.2, subset=\"validation\", interpolation=\"bilinear\", follow_links=False)\n",
    "\n",
    "print(val_train.class_names)\n",
    "print(\"Sizes: \", val_train.cardinality(), val_validate.cardinality())\n",
    "\n",
    "print(\"Suit Train Shape: \", val_train.element_spec)"
   ]
  },
  {
   "cell_type": "code",
   "execution_count": 3,
   "metadata": {},
   "outputs": [
    {
     "name": "stdout",
     "output_type": "stream",
     "text": [
      "Model: \"sequential\"\n",
      "_________________________________________________________________\n",
      " Layer (type)                Output Shape              Param #   \n",
      "=================================================================\n",
      " conv2d (Conv2D)             (None, 100, 100, 32)      320       \n",
      "                                                                 \n",
      " max_pooling2d (MaxPooling2D  (None, 50, 50, 32)       0         \n",
      " )                                                               \n",
      "                                                                 \n",
      " conv2d_1 (Conv2D)           (None, 50, 50, 32)        9248      \n",
      "                                                                 \n",
      " max_pooling2d_1 (MaxPooling  (None, 25, 25, 32)       0         \n",
      " 2D)                                                             \n",
      "                                                                 \n",
      " conv2d_2 (Conv2D)           (None, 25, 25, 64)        18496     \n",
      "                                                                 \n",
      " max_pooling2d_2 (MaxPooling  (None, 12, 12, 64)       0         \n",
      " 2D)                                                             \n",
      "                                                                 \n",
      " dropout (Dropout)           (None, 12, 12, 64)        0         \n",
      "                                                                 \n",
      " flatten (Flatten)           (None, 9216)              0         \n",
      "                                                                 \n",
      " dense (Dense)               (None, 128)               1179776   \n",
      "                                                                 \n",
      " dense_1 (Dense)             (None, 13)                1677      \n",
      "                                                                 \n",
      "=================================================================\n",
      "Total params: 1,209,517\n",
      "Trainable params: 1,209,517\n",
      "Non-trainable params: 0\n",
      "_________________________________________________________________\n"
     ]
    }
   ],
   "source": [
    "# Lets make a network\n",
    "# We will use a convolutional neural network\n",
    "\n",
    "# First we will define our model\n",
    "model = Sequential()\n",
    "model.add(Conv2D(32,3,padding=\"same\", activation=\"relu\", input_shape=(100,100,1)))\n",
    "model.add(MaxPooling2D())\n",
    "\n",
    "model.add(Conv2D(32, 3, padding=\"same\", activation=\"relu\"))\n",
    "model.add(MaxPooling2D())\n",
    "\n",
    "model.add(Conv2D(64, 3, padding=\"same\", activation=\"relu\"))\n",
    "model.add(MaxPooling2D())\n",
    "model.add(Dropout(0.4))\n",
    "\n",
    "model.add(Flatten())\n",
    "model.add(Dense(128,activation=\"relu\"))\n",
    "model.add(Dense(13, activation=\"softmax\"))\n",
    "\n",
    "model.summary()"
   ]
  },
  {
   "cell_type": "code",
   "execution_count": 5,
   "metadata": {},
   "outputs": [
    {
     "name": "stdout",
     "output_type": "stream",
     "text": [
      "Epoch 1/10\n",
      "9/9 [==============================] - 2s 129ms/step - loss: 0.0964 - accuracy: 0.9811 - val_loss: 0.2618 - val_accuracy: 0.9231\n",
      "Epoch 2/10\n",
      "9/9 [==============================] - 1s 114ms/step - loss: 0.0785 - accuracy: 0.9811 - val_loss: 0.1076 - val_accuracy: 0.9538\n",
      "Epoch 3/10\n",
      "9/9 [==============================] - 1s 118ms/step - loss: 0.0202 - accuracy: 0.9962 - val_loss: 0.1000 - val_accuracy: 0.9692\n",
      "Epoch 4/10\n",
      "9/9 [==============================] - 1s 113ms/step - loss: 0.0202 - accuracy: 0.9886 - val_loss: 0.0667 - val_accuracy: 0.9846\n",
      "Epoch 5/10\n",
      "9/9 [==============================] - 1s 105ms/step - loss: 0.0148 - accuracy: 0.9924 - val_loss: 0.2209 - val_accuracy: 0.9385\n",
      "Epoch 6/10\n",
      "9/9 [==============================] - 1s 103ms/step - loss: 0.0355 - accuracy: 0.9848 - val_loss: 0.3409 - val_accuracy: 0.8769\n",
      "Epoch 7/10\n",
      "9/9 [==============================] - 1s 105ms/step - loss: 0.0417 - accuracy: 0.9924 - val_loss: 0.3990 - val_accuracy: 0.8923\n",
      "Epoch 8/10\n",
      "9/9 [==============================] - 1s 107ms/step - loss: 0.0487 - accuracy: 0.9773 - val_loss: 0.1762 - val_accuracy: 0.9077\n",
      "Epoch 9/10\n",
      "9/9 [==============================] - 1s 102ms/step - loss: 0.0853 - accuracy: 0.9848 - val_loss: 0.5578 - val_accuracy: 0.8923\n",
      "Epoch 10/10\n",
      "9/9 [==============================] - 1s 102ms/step - loss: 0.0666 - accuracy: 0.9811 - val_loss: 0.5363 - val_accuracy: 0.8923\n"
     ]
    },
    {
     "data": {
      "text/plain": [
       "<keras.callbacks.History at 0x16f0fc850>"
      ]
     },
     "execution_count": 5,
     "metadata": {},
     "output_type": "execute_result"
    }
   ],
   "source": [
    "# Train the model\n",
    "model.compile(optimizer=\"adam\", loss=\"categorical_crossentropy\", metrics=[\"accuracy\"])\n",
    "model.fit(val_train, epochs=10, validation_data=val_validate)"
   ]
  },
  {
   "cell_type": "code",
   "execution_count": 6,
   "metadata": {},
   "outputs": [],
   "source": [
    "model.save(\"val_model.h5\")"
   ]
  }
 ],
 "metadata": {
  "kernelspec": {
   "display_name": "ChessBotEnv",
   "language": "python",
   "name": "python3"
  },
  "language_info": {
   "codemirror_mode": {
    "name": "ipython",
    "version": 3
   },
   "file_extension": ".py",
   "mimetype": "text/x-python",
   "name": "python",
   "nbconvert_exporter": "python",
   "pygments_lexer": "ipython3",
   "version": "3.10.1"
  },
  "orig_nbformat": 4
 },
 "nbformat": 4,
 "nbformat_minor": 2
}

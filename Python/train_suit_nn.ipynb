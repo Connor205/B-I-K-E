{
 "cells": [
  {
   "cell_type": "code",
   "execution_count": 4,
   "metadata": {},
   "outputs": [],
   "source": [
    "import tensorflow as tf\n",
    "import numpy as np\n",
    "import matplotlib.pyplot as plt\n",
    "import os\n",
    "import pathlib\n",
    "import time\n",
    "import random\n",
    "import cv2\n",
    "import pandas as pd\n",
    "from keras import layers, models, optimizers, losses, metrics, Sequential\n",
    "from keras.layers import Dense, Conv2D, Flatten , Dropout, MaxPooling2D"
   ]
  },
  {
   "cell_type": "code",
   "execution_count": 29,
   "metadata": {},
   "outputs": [
    {
     "name": "stdout",
     "output_type": "stream",
     "text": [
      "Found 154 files belonging to 4 classes.\n",
      "Found 154 files belonging to 4 classes.\n",
      "Using 123 files for validation.\n",
      "['clubs', 'diamonds', 'hearts', 'spades']\n",
      "Sizes:  tf.Tensor(5, shape=(), dtype=int64) tf.Tensor(4, shape=(), dtype=int64)\n",
      "Suit Train Shape:  (TensorSpec(shape=(None, 100, 100, 1), dtype=tf.float32, name=None), TensorSpec(shape=(None, 4), dtype=tf.float32, name=None))\n"
     ]
    }
   ],
   "source": [
    "# Generate our dataset for suits using the labeled images in the suit_images directory\n",
    "# We will use the keras ImageDataGenerator to generate our dataset\n",
    "\n",
    "suit_train = tf.keras.utils.image_dataset_from_directory(\"suit_images\", labels=\"inferred\", label_mode=\"categorical\", color_mode=\"grayscale\", batch_size=32, image_size=(100, 100), shuffle=True, seed=123, interpolation=\"bilinear\", follow_links=False)\n",
    "suit_validate = tf.keras.utils.image_dataset_from_directory(\"suit_images\", labels=\"inferred\", label_mode=\"categorical\", color_mode=\"grayscale\", batch_size=32, image_size=(100, 100), shuffle=True, seed=222, validation_split=0.8, subset=\"validation\", interpolation=\"bilinear\", follow_links=False)\n",
    "\n",
    "print(suit_train.class_names)\n",
    "print(\"Sizes: \", suit_train.cardinality(), suit_validate.cardinality())\n",
    "\n",
    "print(\"Suit Train Shape: \", suit_train.element_spec)\n",
    "\n",
    "\n"
   ]
  },
  {
   "cell_type": "code",
   "execution_count": 30,
   "metadata": {},
   "outputs": [
    {
     "name": "stdout",
     "output_type": "stream",
     "text": [
      "Model: \"sequential_4\"\n",
      "_________________________________________________________________\n",
      " Layer (type)                Output Shape              Param #   \n",
      "=================================================================\n",
      " conv2d_12 (Conv2D)          (None, 100, 100, 32)      320       \n",
      "                                                                 \n",
      " max_pooling2d_12 (MaxPoolin  (None, 50, 50, 32)       0         \n",
      " g2D)                                                            \n",
      "                                                                 \n",
      " conv2d_13 (Conv2D)          (None, 50, 50, 32)        9248      \n",
      "                                                                 \n",
      " max_pooling2d_13 (MaxPoolin  (None, 25, 25, 32)       0         \n",
      " g2D)                                                            \n",
      "                                                                 \n",
      " conv2d_14 (Conv2D)          (None, 25, 25, 64)        18496     \n",
      "                                                                 \n",
      " max_pooling2d_14 (MaxPoolin  (None, 12, 12, 64)       0         \n",
      " g2D)                                                            \n",
      "                                                                 \n",
      " dropout_4 (Dropout)         (None, 12, 12, 64)        0         \n",
      "                                                                 \n",
      " flatten_4 (Flatten)         (None, 9216)              0         \n",
      "                                                                 \n",
      " dense_8 (Dense)             (None, 128)               1179776   \n",
      "                                                                 \n",
      " dense_9 (Dense)             (None, 4)                 516       \n",
      "                                                                 \n",
      "=================================================================\n",
      "Total params: 1,208,356\n",
      "Trainable params: 1,208,356\n",
      "Non-trainable params: 0\n",
      "_________________________________________________________________\n"
     ]
    }
   ],
   "source": [
    "# Lets make a network\n",
    "# We will use a convolutional neural network\n",
    "\n",
    "# First we will define our model\n",
    "model = Sequential()\n",
    "model.add(Conv2D(32,3,padding=\"same\", activation=\"relu\", input_shape=(100,100,1)))\n",
    "model.add(MaxPooling2D())\n",
    "\n",
    "model.add(Conv2D(32, 3, padding=\"same\", activation=\"relu\"))\n",
    "model.add(MaxPooling2D())\n",
    "\n",
    "model.add(Conv2D(64, 3, padding=\"same\", activation=\"relu\"))\n",
    "model.add(MaxPooling2D())\n",
    "model.add(Dropout(0.4))\n",
    "\n",
    "model.add(Flatten())\n",
    "model.add(Dense(128,activation=\"relu\"))\n",
    "model.add(Dense(4, activation=\"softmax\"))\n",
    "\n",
    "model.summary()"
   ]
  },
  {
   "cell_type": "code",
   "execution_count": 31,
   "metadata": {},
   "outputs": [
    {
     "name": "stdout",
     "output_type": "stream",
     "text": [
      "Epoch 1/20\n",
      "5/5 [==============================] - 1s 203ms/step - loss: 42.9459 - accuracy: 0.2403 - val_loss: 13.4958 - val_accuracy: 0.2846\n",
      "Epoch 2/20\n",
      "5/5 [==============================] - 1s 172ms/step - loss: 4.2764 - accuracy: 0.3442 - val_loss: 1.4598 - val_accuracy: 0.4634\n",
      "Epoch 3/20\n",
      "5/5 [==============================] - 1s 158ms/step - loss: 1.5341 - accuracy: 0.3831 - val_loss: 1.1303 - val_accuracy: 0.3902\n",
      "Epoch 4/20\n",
      "5/5 [==============================] - 1s 155ms/step - loss: 1.0938 - accuracy: 0.4870 - val_loss: 0.9685 - val_accuracy: 0.5772\n",
      "Epoch 5/20\n",
      "5/5 [==============================] - 1s 152ms/step - loss: 0.9476 - accuracy: 0.6364 - val_loss: 0.7331 - val_accuracy: 0.8211\n",
      "Epoch 6/20\n",
      "5/5 [==============================] - 1s 149ms/step - loss: 0.7196 - accuracy: 0.6883 - val_loss: 0.5043 - val_accuracy: 0.8293\n",
      "Epoch 7/20\n",
      "5/5 [==============================] - 1s 155ms/step - loss: 0.5457 - accuracy: 0.8117 - val_loss: 0.3159 - val_accuracy: 0.9593\n",
      "Epoch 8/20\n",
      "5/5 [==============================] - 1s 157ms/step - loss: 0.3094 - accuracy: 0.9416 - val_loss: 0.1993 - val_accuracy: 0.9431\n",
      "Epoch 9/20\n",
      "5/5 [==============================] - 1s 153ms/step - loss: 0.3116 - accuracy: 0.9091 - val_loss: 0.1826 - val_accuracy: 0.9593\n",
      "Epoch 10/20\n",
      "5/5 [==============================] - 1s 165ms/step - loss: 0.1728 - accuracy: 0.9675 - val_loss: 0.0984 - val_accuracy: 0.9837\n",
      "Epoch 11/20\n",
      "5/5 [==============================] - 1s 155ms/step - loss: 0.1172 - accuracy: 0.9675 - val_loss: 0.0723 - val_accuracy: 1.0000\n",
      "Epoch 12/20\n",
      "5/5 [==============================] - 1s 146ms/step - loss: 0.0865 - accuracy: 0.9740 - val_loss: 0.0304 - val_accuracy: 1.0000\n",
      "Epoch 13/20\n",
      "5/5 [==============================] - 1s 147ms/step - loss: 0.0393 - accuracy: 1.0000 - val_loss: 0.0243 - val_accuracy: 1.0000\n",
      "Epoch 14/20\n",
      "5/5 [==============================] - 1s 173ms/step - loss: 0.0380 - accuracy: 1.0000 - val_loss: 0.0125 - val_accuracy: 1.0000\n",
      "Epoch 15/20\n",
      "5/5 [==============================] - 1s 154ms/step - loss: 0.0228 - accuracy: 1.0000 - val_loss: 0.0081 - val_accuracy: 1.0000\n",
      "Epoch 16/20\n",
      "5/5 [==============================] - 1s 152ms/step - loss: 0.0355 - accuracy: 0.9870 - val_loss: 0.0077 - val_accuracy: 1.0000\n",
      "Epoch 17/20\n",
      "5/5 [==============================] - 1s 160ms/step - loss: 0.0277 - accuracy: 1.0000 - val_loss: 0.0079 - val_accuracy: 1.0000\n",
      "Epoch 18/20\n",
      "5/5 [==============================] - 1s 160ms/step - loss: 0.0182 - accuracy: 1.0000 - val_loss: 0.0051 - val_accuracy: 1.0000\n",
      "Epoch 19/20\n",
      "5/5 [==============================] - 1s 151ms/step - loss: 0.0125 - accuracy: 1.0000 - val_loss: 0.0048 - val_accuracy: 1.0000\n",
      "Epoch 20/20\n",
      "5/5 [==============================] - 1s 157ms/step - loss: 0.0136 - accuracy: 1.0000 - val_loss: 0.0035 - val_accuracy: 1.0000\n"
     ]
    },
    {
     "data": {
      "text/plain": [
       "<keras.callbacks.History at 0x1767d6500>"
      ]
     },
     "execution_count": 31,
     "metadata": {},
     "output_type": "execute_result"
    }
   ],
   "source": [
    "# Train the model\n",
    "model.compile(optimizer=\"adam\", loss=\"categorical_crossentropy\", metrics=[\"accuracy\"])\n",
    "model.fit(suit_train, epochs=20, validation_data=suit_validate)"
   ]
  },
  {
   "cell_type": "code",
   "execution_count": 32,
   "metadata": {},
   "outputs": [],
   "source": [
    "# Save the model\n",
    "model.save(\"suit_model.h5\")"
   ]
  },
  {
   "cell_type": "code",
   "execution_count": 33,
   "metadata": {},
   "outputs": [
    {
     "name": "stdout",
     "output_type": "stream",
     "text": [
      "[[1.4726511e-04 2.9405509e-03 9.9678600e-01 1.2623395e-04]]\n",
      "2\n",
      "hearts\n"
     ]
    }
   ],
   "source": [
    "# Lets test the model\n",
    "\n",
    "# Load the model in\n",
    "model = tf.keras.models.load_model(\"suit_model.h5\")\n",
    "\n",
    "# Load the test image\n",
    "test_image = cv2.imread(\"suit_images/hearts/hearts_10_suit_1680993207.517387.png\", cv2.IMREAD_GRAYSCALE)\n",
    "test_image = cv2.resize(test_image, (100, 100))\n",
    "test_image = np.array(test_image)\n",
    "test_image = test_image.reshape(1, 100, 100, 1)\n",
    "\n",
    "# Make a prediction\n",
    "prediction = model.predict(test_image)\n",
    "print(prediction)\n",
    "class_index = np.argmax(prediction)\n",
    "print(class_index)\n",
    "print(suit_train.class_names[class_index])\n",
    "\n"
   ]
  },
  {
   "cell_type": "code",
   "execution_count": 34,
   "metadata": {},
   "outputs": [],
   "source": [
    "# Run through all of the images in the suit_images/hearts directory\n",
    "# and make a prediction for each one\n",
    "# Then print out the accuracy\n",
    "\n",
    "# Get a list of all of the files in the directory using pathlib\n",
    "path = pathlib.Path(\"suit_images/diamonds\")\n",
    "\n",
    "# Get a list of all of the files in the directory\n",
    "files = list(path.glob(\"*.png\"))\n",
    "\n",
    "# Now lets sort the files by the time they were created\n",
    "files.sort(key=lambda x: x.stat().st_ctime)\n",
    "\n",
    "for file in files:\n",
    "    # Now lets make a prediction for each image\n",
    "    test_image = cv2.imread(file.as_posix(), cv2.IMREAD_GRAYSCALE)\n",
    "    test_image = np.array(test_image)\n",
    "    test_image = test_image.reshape(1, 100, 100, 1)\n",
    "\n",
    "    # Make a prediction\n",
    "    prediction = model.predict(test_image)\n",
    "    class_index = np.argmax(prediction)\n",
    "    c = suit_train.class_names[class_index]\n",
    "\n",
    "    if c == \"diamonds\":\n",
    "        pass\n",
    "    else:\n",
    "        print(\"Incorrect\")\n",
    "        cv2.imshow(\"Image\", cv2.imread(file.as_posix(), cv2.IMREAD_GRAYSCALE))\n",
    "        cv2.waitKey(0)\n",
    "\n",
    "\n"
   ]
  }
 ],
 "metadata": {
  "kernelspec": {
   "display_name": "ChessBotEnv",
   "language": "python",
   "name": "python3"
  },
  "language_info": {
   "codemirror_mode": {
    "name": "ipython",
    "version": 3
   },
   "file_extension": ".py",
   "mimetype": "text/x-python",
   "name": "python",
   "nbconvert_exporter": "python",
   "pygments_lexer": "ipython3",
   "version": "3.10.1"
  },
  "orig_nbformat": 4
 },
 "nbformat": 4,
 "nbformat_minor": 2
}

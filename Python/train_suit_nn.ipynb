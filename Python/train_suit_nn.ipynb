{
 "cells": [
  {
   "cell_type": "code",
   "execution_count": 35,
   "metadata": {},
   "outputs": [],
   "source": [
    "import tensorflow as tf\n",
    "import numpy as np\n",
    "import matplotlib.pyplot as plt\n",
    "import os\n",
    "import pathlib\n",
    "import time\n",
    "import random\n",
    "import cv2\n",
    "import pandas as pd\n",
    "from keras import layers, models, optimizers, losses, metrics, Sequential\n",
    "from keras.layers import Dense, Conv2D, Flatten , Dropout, MaxPooling2D"
   ]
  },
  {
   "cell_type": "code",
   "execution_count": 36,
   "metadata": {},
   "outputs": [
    {
     "name": "stdout",
     "output_type": "stream",
     "text": [
      "Found 329 files belonging to 4 classes.\n",
      "Using 264 files for training.\n",
      "Found 329 files belonging to 4 classes.\n",
      "Using 65 files for validation.\n",
      "['clubs', 'diamonds', 'hearts', 'spades']\n",
      "Sizes:  tf.Tensor(9, shape=(), dtype=int64) tf.Tensor(3, shape=(), dtype=int64)\n",
      "Suit Train Shape:  (TensorSpec(shape=(None, 100, 100, 1), dtype=tf.float32, name=None), TensorSpec(shape=(None, 4), dtype=tf.float32, name=None))\n"
     ]
    }
   ],
   "source": [
    "# Generate our dataset for suits using the labeled images in the suit_images directory\n",
    "# We will use the keras ImageDataGenerator to generate our dataset\n",
    "\n",
    "suit_train = tf.keras.utils.image_dataset_from_directory(\"suit_images\", labels=\"inferred\", label_mode=\"categorical\", color_mode=\"grayscale\", batch_size=32, image_size=(100, 100), shuffle=True, seed=123, interpolation=\"bilinear\", follow_links=False, validation_split=0.2, subset=\"training\")\n",
    "suit_validate = tf.keras.utils.image_dataset_from_directory(\"suit_images\", labels=\"inferred\", label_mode=\"categorical\", color_mode=\"grayscale\", batch_size=32, image_size=(100, 100), shuffle=True, seed=123, validation_split=0.2, subset=\"validation\", interpolation=\"bilinear\", follow_links=False)\n",
    "\n",
    "print(suit_train.class_names)\n",
    "print(\"Sizes: \", suit_train.cardinality(), suit_validate.cardinality())\n",
    "\n",
    "print(\"Suit Train Shape: \", suit_train.element_spec)\n",
    "\n",
    "\n"
   ]
  },
  {
   "cell_type": "code",
   "execution_count": 37,
   "metadata": {},
   "outputs": [
    {
     "name": "stdout",
     "output_type": "stream",
     "text": [
      "Model: \"sequential_5\"\n",
      "_________________________________________________________________\n",
      " Layer (type)                Output Shape              Param #   \n",
      "=================================================================\n",
      " conv2d_15 (Conv2D)          (None, 100, 100, 32)      320       \n",
      "                                                                 \n",
      " max_pooling2d_15 (MaxPoolin  (None, 50, 50, 32)       0         \n",
      " g2D)                                                            \n",
      "                                                                 \n",
      " conv2d_16 (Conv2D)          (None, 50, 50, 32)        9248      \n",
      "                                                                 \n",
      " max_pooling2d_16 (MaxPoolin  (None, 25, 25, 32)       0         \n",
      " g2D)                                                            \n",
      "                                                                 \n",
      " conv2d_17 (Conv2D)          (None, 25, 25, 64)        18496     \n",
      "                                                                 \n",
      " max_pooling2d_17 (MaxPoolin  (None, 12, 12, 64)       0         \n",
      " g2D)                                                            \n",
      "                                                                 \n",
      " dropout_5 (Dropout)         (None, 12, 12, 64)        0         \n",
      "                                                                 \n",
      " flatten_5 (Flatten)         (None, 9216)              0         \n",
      "                                                                 \n",
      " dense_10 (Dense)            (None, 128)               1179776   \n",
      "                                                                 \n",
      " dense_11 (Dense)            (None, 4)                 516       \n",
      "                                                                 \n",
      "=================================================================\n",
      "Total params: 1,208,356\n",
      "Trainable params: 1,208,356\n",
      "Non-trainable params: 0\n",
      "_________________________________________________________________\n"
     ]
    }
   ],
   "source": [
    "# Lets make a network\n",
    "# We will use a convolutional neural network\n",
    "\n",
    "# First we will define our model\n",
    "model = Sequential()\n",
    "model.add(Conv2D(32,3,padding=\"same\", activation=\"relu\", input_shape=(100,100,1)))\n",
    "model.add(MaxPooling2D())\n",
    "\n",
    "model.add(Conv2D(32, 3, padding=\"same\", activation=\"relu\"))\n",
    "model.add(MaxPooling2D())\n",
    "\n",
    "model.add(Conv2D(64, 3, padding=\"same\", activation=\"relu\"))\n",
    "model.add(MaxPooling2D())\n",
    "model.add(Dropout(0.4))\n",
    "\n",
    "model.add(Flatten())\n",
    "model.add(Dense(128,activation=\"relu\"))\n",
    "model.add(Dense(4, activation=\"softmax\"))\n",
    "\n",
    "model.summary()"
   ]
  },
  {
   "cell_type": "code",
   "execution_count": 39,
   "metadata": {},
   "outputs": [
    {
     "name": "stdout",
     "output_type": "stream",
     "text": [
      "Epoch 1/10\n",
      "9/9 [==============================] - 2s 127ms/step - loss: 0.0881 - accuracy: 0.9811 - val_loss: 0.2893 - val_accuracy: 0.9077\n",
      "Epoch 2/10\n",
      "9/9 [==============================] - 1s 120ms/step - loss: 0.0179 - accuracy: 1.0000 - val_loss: 0.2543 - val_accuracy: 0.8923\n",
      "Epoch 3/10\n",
      "9/9 [==============================] - 1s 108ms/step - loss: 0.0074 - accuracy: 1.0000 - val_loss: 0.3321 - val_accuracy: 0.8769\n",
      "Epoch 4/10\n",
      "9/9 [==============================] - 1s 104ms/step - loss: 0.0254 - accuracy: 0.9886 - val_loss: 0.8124 - val_accuracy: 0.8154\n",
      "Epoch 5/10\n",
      "9/9 [==============================] - 1s 104ms/step - loss: 0.0151 - accuracy: 0.9962 - val_loss: 0.2131 - val_accuracy: 0.9077\n",
      "Epoch 6/10\n",
      "9/9 [==============================] - 1s 105ms/step - loss: 0.0067 - accuracy: 0.9962 - val_loss: 0.3336 - val_accuracy: 0.9077\n",
      "Epoch 7/10\n",
      "9/9 [==============================] - 1s 111ms/step - loss: 0.0045 - accuracy: 1.0000 - val_loss: 0.3016 - val_accuracy: 0.9385\n",
      "Epoch 8/10\n",
      "9/9 [==============================] - 1s 105ms/step - loss: 2.4928e-04 - accuracy: 1.0000 - val_loss: 0.4332 - val_accuracy: 0.9231\n",
      "Epoch 9/10\n",
      "9/9 [==============================] - 1s 113ms/step - loss: 0.0010 - accuracy: 1.0000 - val_loss: 0.2570 - val_accuracy: 0.9538\n",
      "Epoch 10/10\n",
      "9/9 [==============================] - 1s 111ms/step - loss: 3.1329e-04 - accuracy: 1.0000 - val_loss: 0.2783 - val_accuracy: 0.9538\n"
     ]
    },
    {
     "data": {
      "text/plain": [
       "<keras.callbacks.History at 0x17698aa70>"
      ]
     },
     "execution_count": 39,
     "metadata": {},
     "output_type": "execute_result"
    }
   ],
   "source": [
    "# Train the model\n",
    "model.compile(optimizer=\"adam\", loss=\"categorical_crossentropy\", metrics=[\"accuracy\"])\n",
    "model.fit(suit_train, epochs=10, validation_data=suit_validate)"
   ]
  },
  {
   "cell_type": "code",
   "execution_count": 40,
   "metadata": {},
   "outputs": [],
   "source": [
    "# Save the model\n",
    "model.save(\"suit_model.h5\")"
   ]
  },
  {
   "cell_type": "code",
   "execution_count": 41,
   "metadata": {},
   "outputs": [
    {
     "name": "stdout",
     "output_type": "stream",
     "text": [
      "[[7.0409200e-08 4.4852359e-06 9.9998927e-01 6.0837583e-06]]\n",
      "2\n",
      "hearts\n"
     ]
    }
   ],
   "source": [
    "# Lets test the model\n",
    "\n",
    "# Load the model in\n",
    "model = tf.keras.models.load_model(\"suit_model.h5\")\n",
    "\n",
    "# Load the test image\n",
    "test_image = cv2.imread(\"suit_images/hearts/hearts_10_suit_1680993207.517387.png\", cv2.IMREAD_GRAYSCALE)\n",
    "test_image = cv2.resize(test_image, (100, 100))\n",
    "test_image = np.array(test_image)\n",
    "test_image = test_image.reshape(1, 100, 100, 1)\n",
    "\n",
    "# Make a prediction\n",
    "prediction = model.predict(test_image)\n",
    "print(prediction)\n",
    "class_index = np.argmax(prediction)\n",
    "print(class_index)\n",
    "print(suit_train.class_names[class_index])\n",
    "\n"
   ]
  },
  {
   "cell_type": "code",
   "execution_count": 34,
   "metadata": {},
   "outputs": [],
   "source": [
    "# Run through all of the images in the suit_images/hearts directory\n",
    "# and make a prediction for each one\n",
    "# Then print out the accuracy\n",
    "\n",
    "# Get a list of all of the files in the directory using pathlib\n",
    "path = pathlib.Path(\"suit_images/diamonds\")\n",
    "\n",
    "# Get a list of all of the files in the directory\n",
    "files = list(path.glob(\"*.png\"))\n",
    "\n",
    "# Now lets sort the files by the time they were created\n",
    "files.sort(key=lambda x: x.stat().st_ctime)\n",
    "\n",
    "for file in files:\n",
    "    # Now lets make a prediction for each image\n",
    "    test_image = cv2.imread(file.as_posix(), cv2.IMREAD_GRAYSCALE)\n",
    "    test_image = np.array(test_image)\n",
    "    test_image = test_image.reshape(1, 100, 100, 1)\n",
    "\n",
    "    # Make a prediction\n",
    "    prediction = model.predict(test_image)\n",
    "    class_index = np.argmax(prediction)\n",
    "    c = suit_train.class_names[class_index]\n",
    "\n",
    "    if c == \"diamonds\":\n",
    "        pass\n",
    "    else:\n",
    "        print(\"Incorrect\")\n",
    "        cv2.imshow(\"Image\", cv2.imread(file.as_posix(), cv2.IMREAD_GRAYSCALE))\n",
    "        cv2.waitKey(0)\n",
    "\n",
    "\n"
   ]
  }
 ],
 "metadata": {
  "kernelspec": {
   "display_name": "ChessBotEnv",
   "language": "python",
   "name": "python3"
  },
  "language_info": {
   "codemirror_mode": {
    "name": "ipython",
    "version": 3
   },
   "file_extension": ".py",
   "mimetype": "text/x-python",
   "name": "python",
   "nbconvert_exporter": "python",
   "pygments_lexer": "ipython3",
   "version": "3.10.1"
  },
  "orig_nbformat": 4
 },
 "nbformat": 4,
 "nbformat_minor": 2
}
